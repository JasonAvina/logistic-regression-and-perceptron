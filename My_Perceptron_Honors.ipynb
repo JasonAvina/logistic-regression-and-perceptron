{
  "nbformat": 4,
  "nbformat_minor": 0,
  "metadata": {
    "colab": {
      "provenance": [],
      "authorship_tag": "ABX9TyNaENkCmGTgvh+0ynkXQRY4",
      "include_colab_link": true
    },
    "kernelspec": {
      "name": "python3",
      "display_name": "Python 3"
    },
    "language_info": {
      "name": "python"
    }
  },
  "cells": [
    {
      "cell_type": "markdown",
      "metadata": {
        "id": "view-in-github",
        "colab_type": "text"
      },
      "source": [
        "<a href=\"https://colab.research.google.com/github/JasonAvina/logistic-regression-and-perceptron/blob/main/My_Perceptron_Honors.ipynb\" target=\"_parent\"><img src=\"https://colab.research.google.com/assets/colab-badge.svg\" alt=\"Open In Colab\"/></a>"
      ]
    },
    {
      "cell_type": "markdown",
      "source": [
        "#Below is my own version of a single Perceptron.\n",
        "Code here is my own Python adaptation of the Javascript found here: \n",
        "https://www.w3schools.com/ai/ai_training.asp\n",
        "\n",
        "Task: The Perceptron is a code representation of a single neuron or node, in a neural network. Its job is to say, given a set of inputs, whether or not the neuron is activated or not. In the brain, a sensory neuron might give you a pain sensation if activated depending on how much heat input was received. \n",
        "<p><p>\n",
        "(unclear explain this better): Mathematically, it is a function, that takes a set of inputs with a weight value for each input. Then it performas some activation function on the weighted sum. And it outputs the result of that function, specifically if the weighted sum was above some threshold number. If so it outputs a 1 if not it outputs a 0. \n",
        "<p><p>\n",
        "In code here, the Perceptron is a user defined instance.<br>\n",
        "It accepts as parameters:\n",
        "<br>  -number of inputs(no)\n",
        "<br>  -the learning rate(learningRate)(default = 0.00001)\n",
        "<p><p>\n",
        "The Perceptron below will perform a basic classification task. It will try to simply classify if coordinates are above or below a line, but without knowing the equation of the line. HOW?!!! :0\n",
        "\n"
      ],
      "metadata": {
        "id": "bDZ6Xr8HGvZD"
      }
    },
    {
      "cell_type": "markdown",
      "source": [
        "#Create random X and Y points, Function\n",
        "<br>-create random X and Y points\n",
        "<br>-define a linear simple linear function\n",
        "<br>-plot both"
      ],
      "metadata": {
        "id": "9eTOYiRePy7p"
      }
    },
    {
      "cell_type": "code",
      "source": [
        "import matplotlib.pyplot as plt\n",
        "import random\n",
        "import numpy as np\n",
        "\n",
        "#creating a scatterplot of 50 random points\n",
        "numPoints = 50\n",
        "x_true = [random.randint(0, 50) for x in range(numPoints)]\n",
        "y_true = [random.randint(0, 50) for x in range(numPoints)]\n",
        "coords = zip(x_true, y_true)\n",
        "\n",
        "#define a linear function with arbitrary slope and intercept\n",
        "#function/m/b don't matter now, just that line divides points\n",
        "m = 1\n",
        "b = 1\n",
        "def f(x, slope, intercept):\n",
        "  return slope * x  + intercept\n",
        "\n",
        "#use the function to create a line of points with no graph yet\n",
        "y_outputs = [f(x, m, b) for x in range(50)]\n",
        "\n"
      ],
      "metadata": {
        "id": "ntWIoHx4Ocdq"
      },
      "execution_count": null,
      "outputs": []
    },
    {
      "cell_type": "markdown",
      "source": [
        "#Plot the line and points\n",
        "<br>map real x values to linear function outputs\n",
        "<br>-compare real values to outputs\n",
        "<br>-create an array where I mapped each point to 1 or 0(over or under)"
      ],
      "metadata": {
        "id": "4BLA7mFMQEM4"
      }
    },
    {
      "cell_type": "code",
      "source": [
        "'''\n",
        "map all real x values to y line output. Compare out with real y values.\n",
        "if real y > output y then point is above line(1), otherwise its under(0)\n",
        "'''\n",
        "\n",
        "#this array holds the 'correct' answers of whether a point is\n",
        "#above or below the line, 1 = above, 0 = below\n",
        "correct = []\n",
        "for i in range(numPoints):\n",
        "  #the default value \n",
        "  if (y_true[i] > f(x_true[i], m, b)):\n",
        "    correct.append(1)\n",
        "  else:\n",
        "    correct.append(0)\n",
        "  color = 'black'\n",
        "  if (correct[i]): \n",
        "    color = 'blue'\n",
        "  plt.scatter(x_true[i], y_true[i], color=color)\n",
        "\n",
        "plt.plot(range(50), y_outputs, '-')\n",
        "\n",
        "\n",
        "# Display the plot\n",
        "print(\"\\nTHIS IS ALL THE PROGRAM RECIEVES AS INPUT\\n\")\n",
        "plt.show()\n"
      ],
      "metadata": {
        "id": "hrfkaXMHQqig",
        "colab": {
          "base_uri": "https://localhost:8080/",
          "height": 317
        },
        "outputId": "f46ffb78-4bf1-4eb9-8583-ec72b5e40f25"
      },
      "execution_count": null,
      "outputs": [
        {
          "output_type": "stream",
          "name": "stdout",
          "text": [
            "\n",
            "THIS IS ALL THE PROGRAM RECIEVES AS INPUT\n",
            "\n"
          ]
        },
        {
          "output_type": "display_data",
          "data": {
            "text/plain": [
              "<Figure size 432x288 with 1 Axes>"
            ],
            "image/png": "[encoded data removed]"
          },
          "metadata": {
            "needs_background": "light"
          }
        }
      ]
    },
    {
      "cell_type": "markdown",
      "source": [
        "The above illustrates how to categorize points above and below a line. But what about when we don't know the equation! The incredible thing about the Perceptron is its ability to find relationships/patterns when the equation isn't know. It does this by a random slope and changing it by a little bit, over each iteration, until the error is either zero or convergens around a number. "
      ],
      "metadata": {
        "id": "uGBPbN4fjyRE"
      }
    },
    {
      "cell_type": "markdown",
      "source": [
        "#Create a Perceptron Object\n",
        "The Perceptron object starts by receiving:\n",
        "<br>-number of inputs (here 3 per point -> x, y, bias)\n",
        "<br>-learning rate\n",
        "<br>-random weight(-1 >=< 1) per input\n",
        "<br><br>\n",
        "Perceptron algorithm:\n",
        "<br>-accept inputs and multiply each by its respective weight\n",
        "<br>-sum these weighted inputs\n",
        "<br>-put sum into an activation function(which here will be):\n",
        "<br>-if sum is > 0: return 1, else: return 0\n"
      ],
      "metadata": {
        "id": "dCtMZTFooLAe"
      }
    },
    {
      "cell_type": "code",
      "source": [
        "import random\n",
        "\n",
        "class Perceptron:\n",
        "  def __init__(self, numFeatures, learningRate):\n",
        "\n",
        "    #class data members\n",
        "    self.num = numFeatures\n",
        "    self.lr = learningRate\n",
        "    self.bias = 1\n",
        "    #list of random weights(each is -1, 0, or 1) for each input\n",
        "    self.weights = [(random.randrange(-1, 1)) for i in range(self.num)]\n",
        "    self.weights.append(1)\n",
        "\n",
        "  #accepts 3 element input list(x, y and bias) for weighted sum\n",
        "  def activate(self, inputs):\n",
        "    weighted_sum = 0\n",
        "    terms = list(map(lambda x, y: x * y, inputs, self.weights))\n",
        "    weighted_sum = sum(terms)\n",
        "    return 1 if weighted_sum > 0 else 0\n",
        "\n",
        "  #The training function finds the correct weights for the activation func\n",
        "  def train(self, inputs, correct):\n",
        "    inputs.append(self.bias)         #this appends the bias to the inputs list\n",
        "    guess = self.activate(inputs)    #this results in 0 or 1 \n",
        "    error = correct - guess #this could be some kind of decimal \n",
        "    #if the error is not equal to zero it adjusts the weight        \n",
        "    if error != 0:\n",
        "      self.weights = list(map(lambda x, y: x + (self.lr * error * y),\\\n",
        "                              self.weights, inputs))\n"
      ],
      "metadata": {
        "id": "3SFCFQ9eoWYM"
      },
      "execution_count": null,
      "outputs": []
    },
    {
      "cell_type": "markdown",
      "source": [
        "#TRAINING THE PERCEPTRON\n",
        "Here I am using the training data coordinate values and the array of desired results(whether they are above or below the line to determine weights. Weights are the coefficents in the equation that describes a line separating the dots. The program at this point does not \"know\" the equation, so it must determine it. It does this by generating random weights/coefficients and measures how much of an error they result in compared to the desired values. Then it adjusts those weights. "
      ],
      "metadata": {
        "id": "KCMx7BAwGU3B"
      }
    },
    {
      "cell_type": "code",
      "source": [
        "#instantiating object\n",
        "\n",
        "numFeatures = 2\n",
        "learningRate = 0.0001\n",
        "epochs = 1000\n",
        "errors = 0\n",
        "\n",
        "neuron = Perceptron(numFeatures, learningRate)\n",
        "\n",
        "#train the perceptron object\n",
        "for i in range(epochs):\n",
        "  for i in range(numPoints):\n",
        "    neuron.train([x_true[i], y_true[i]], correct[i])\n",
        "\n",
        "#display result\n",
        "for i in range(numPoints):\n",
        "  x = x_true[i]\n",
        "  y = y_true[i]\n",
        "  guess = neuron.activate([x, y, neuron.bias])\n",
        "  color = 'black'\n",
        "  if guess == 1:\n",
        "    color = 'blue'\n",
        "  else:\n",
        "    color = 'black'\n",
        "  plt.scatter(x, y, color = color)\n",
        "  \n",
        "\n",
        "plt.plot(range(50), y_outputs, '-')"
      ],
      "metadata": {
        "colab": {
          "base_uri": "https://localhost:8080/",
          "height": 282
        },
        "id": "7HWnT6CSHOLi",
        "outputId": "62de8a12-c05a-460c-87cd-78f289b9ebe9"
      },
      "execution_count": null,
      "outputs": [
        {
          "output_type": "execute_result",
          "data": {
            "text/plain": [
              "[<matplotlib.lines.Line2D at 0x7f3c253f21f0>]"
            ]
          },
          "metadata": {},
          "execution_count": 65
        },
        {
          "output_type": "display_data",
          "data": {
            "text/plain": [
              "<Figure size 432x288 with 1 Axes>"
            ],
            "image/png": "[encoded data removed]"
          },
          "metadata": {
            "needs_background": "light"
          }
        }
      ]
    },
    {
      "cell_type": "markdown",
      "source": [
        "#TESTING PERCEPTRON\n",
        "Here we will generate a new set of random data to see how the model performs against it. The model will use the weights generated with the training data."
      ],
      "metadata": {
        "id": "XCt7tBYU6aSO"
      }
    },
    {
      "cell_type": "code",
      "source": [
        "import time\n",
        "\n",
        "#creating a new set of random coordinates\n",
        "numPoints = 50\n",
        "x_test = [random.randint(0, 50) for x in range(numPoints)]\n",
        "y_test = [random.randint(0, 50) for x in range(numPoints)]\n",
        "\n",
        "#creating a new array of correct answers(0 = under line, 1 = over)\n",
        "correct = []\n",
        "for i in range(numPoints):\n",
        "  #the default value \n",
        "  if (y_test[i] > f(x_test[i], m, b)):\n",
        "    correct.append(1)\n",
        "  else:\n",
        "    correct.append(0)\n",
        "\n",
        "\n",
        "#using model to predict outcomes for data\n",
        "#also counting errors in final prediction\n",
        "\n",
        "errors = 0\n",
        "x_errors = []\n",
        "y_errors = []\n",
        "\n",
        "#this loops once for each point on the graph\n",
        "for i in range(numPoints):\n",
        "  x = x_test[i]\n",
        "  y = y_test[i]\n",
        "  guess = neuron.activate([x, y, neuron.bias])\n",
        "  color = 'black'\n",
        "  if guess == 1:\n",
        "    color = 'blue'\n",
        "  if guess != correct[i]:\n",
        "    errors += 1\n",
        "    x_errors.append(x_test[i])\n",
        "    y_errors.append(y_test[i])\n",
        "  plt.scatter(x, y, color = color)\n",
        "\n",
        "\n",
        "for i in range(errors):\n",
        "  plt.scatter(x_errors, y_errors, color = 'red')\n",
        "\n",
        "\n",
        "plt.plot(range(50), y_outputs, '-')\n",
        "print(\"The number of errors were: \", errors)"
      ],
      "metadata": {
        "id": "2zwPYkWp6mmr",
        "colab": {
          "base_uri": "https://localhost:8080/",
          "height": 282
        },
        "outputId": "247d9b92-abc4-43c5-ed57-d0106aefcc22"
      },
      "execution_count": null,
      "outputs": [
        {
          "output_type": "stream",
          "name": "stdout",
          "text": [
            "The number of errors were:  0\n"
          ]
        },
        {
          "output_type": "display_data",
          "data": {
            "text/plain": [
              "<Figure size 432x288 with 1 Axes>"
            ],
            "image/png": "[encoded data removed]"
          },
          "metadata": {
            "needs_background": "light"
          }
        }
      ]
    }
  ]
}